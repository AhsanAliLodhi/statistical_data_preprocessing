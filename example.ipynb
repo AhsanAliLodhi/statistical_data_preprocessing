{
 "cells": [
  {
   "cell_type": "markdown",
   "metadata": {},
   "source": [
    "## This is a small tutorial on data cleaning, preprocessing and the idea of a pipeline for changing raw data to clean data. The primary purpose of this tutorial is to showcase benefits of my package 'preprocessor' in the above mentioned scenarios."
   ]
  },
  {
   "cell_type": "code",
   "execution_count": 67,
   "metadata": {},
   "outputs": [],
   "source": [
    "from preprocessor.misc import read_csv\n",
    "import numpy as np\n",
    "import pandas as pd"
   ]
  },
  {
   "cell_type": "markdown",
   "metadata": {},
   "source": [
    "### Using our read_csv is a wrapper over pandas function of same name which is better at reading datetime columns"
   ]
  },
  {
   "cell_type": "code",
   "execution_count": 18,
   "metadata": {},
   "outputs": [
    {
     "name": "stdout",
     "output_type": "stream",
     "text": [
      "Trying to read datetime columns\n"
     ]
    },
    {
     "name": "stderr",
     "output_type": "stream",
     "text": [
      "  0%|                                                                                            | 0/3 [00:00<?, ?it/s]\n",
      "  0%|                                                                                            | 0/3 [00:00<?, ?it/s]\n",
      "100%|████████████████████████████████████████████████████████████████████████████████████| 3/3 [00:00<00:00, 74.98it/s]\n",
      "100%|████████████████████████████████████████████████████████████████████████████████████| 3/3 [00:00<00:00, 75.00it/s]\n"
     ]
    },
    {
     "data": {
      "text/html": [
       "<div>\n",
       "<style scoped>\n",
       "    .dataframe tbody tr th:only-of-type {\n",
       "        vertical-align: middle;\n",
       "    }\n",
       "\n",
       "    .dataframe tbody tr th {\n",
       "        vertical-align: top;\n",
       "    }\n",
       "\n",
       "    .dataframe thead th {\n",
       "        text-align: right;\n",
       "    }\n",
       "</style>\n",
       "<table border=\"1\" class=\"dataframe\">\n",
       "  <thead>\n",
       "    <tr style=\"text-align: right;\">\n",
       "      <th></th>\n",
       "      <th>mixed</th>\n",
       "      <th>cat</th>\n",
       "      <th>date</th>\n",
       "      <th>num</th>\n",
       "    </tr>\n",
       "  </thead>\n",
       "  <tbody>\n",
       "    <tr>\n",
       "      <td>0</td>\n",
       "      <td>NaN</td>\n",
       "      <td>HT33</td>\n",
       "      <td>2013-02-17</td>\n",
       "      <td>10.172877</td>\n",
       "    </tr>\n",
       "    <tr>\n",
       "      <td>1</td>\n",
       "      <td>NaN</td>\n",
       "      <td>HT33</td>\n",
       "      <td>2013-02-08</td>\n",
       "      <td>10.172877</td>\n",
       "    </tr>\n",
       "    <tr>\n",
       "      <td>2</td>\n",
       "      <td>NaN</td>\n",
       "      <td>HT33</td>\n",
       "      <td>2013-02-17</td>\n",
       "      <td>10.191187</td>\n",
       "    </tr>\n",
       "    <tr>\n",
       "      <td>3</td>\n",
       "      <td>NaN</td>\n",
       "      <td>HT33</td>\n",
       "      <td>2013-02-16</td>\n",
       "      <td>10.188137</td>\n",
       "    </tr>\n",
       "    <tr>\n",
       "      <td>4</td>\n",
       "      <td>NaN</td>\n",
       "      <td>8D97</td>\n",
       "      <td>2013-02-26</td>\n",
       "      <td>0.000000</td>\n",
       "    </tr>\n",
       "  </tbody>\n",
       "</table>\n",
       "</div>"
      ],
      "text/plain": [
       "  mixed   cat       date        num\n",
       "0   NaN  HT33 2013-02-17  10.172877\n",
       "1   NaN  HT33 2013-02-08  10.172877\n",
       "2   NaN  HT33 2013-02-17  10.191187\n",
       "3   NaN  HT33 2013-02-16  10.188137\n",
       "4   NaN  8D97 2013-02-26   0.000000"
      ]
     },
     "execution_count": 18,
     "metadata": {},
     "output_type": "execute_result"
    }
   ],
   "source": [
    "data = read_csv(\"example.csv\", verbose =True, encoding = 'latin')\n",
    "data.head()"
   ]
  },
  {
   "cell_type": "markdown",
   "metadata": {},
   "source": [
    "### Lets look at values in each column"
   ]
  },
  {
   "cell_type": "code",
   "execution_count": 19,
   "metadata": {},
   "outputs": [
    {
     "data": {
      "text/plain": [
       "0              257\n",
       "100            157\n",
       "1               69\n",
       "2               55\n",
       "NEIN            51\n",
       "              ... \n",
       "155590           1\n",
       "29               1\n",
       "50273            1\n",
       "99.99838371      1\n",
       "240616           1\n",
       "Name: mixed, Length: 1014, dtype: int64"
      ]
     },
     "execution_count": 19,
     "metadata": {},
     "output_type": "execute_result"
    }
   ],
   "source": [
    "data['mixed'].value_counts()"
   ]
  },
  {
   "cell_type": "markdown",
   "metadata": {},
   "source": [
    "#### On first glance we can tell that the first column 'mixed' has very small and large numbers as well as text in some of its values, now lets look at second column"
   ]
  },
  {
   "cell_type": "code",
   "execution_count": 20,
   "metadata": {},
   "outputs": [
    {
     "data": {
      "text/plain": [
       "5S31    4565\n",
       "KS43    3893\n",
       "3D33    3669\n",
       "XA53    2704\n",
       "KS41    1888\n",
       "        ... \n",
       "3Z52       1\n",
       "4P33       1\n",
       "8W51       1\n",
       "8S51       1\n",
       "2M52       1\n",
       "Name: cat, Length: 814, dtype: int64"
      ]
     },
     "execution_count": 20,
     "metadata": {},
     "output_type": "execute_result"
    }
   ],
   "source": [
    "data['cat'].value_counts()"
   ]
  },
  {
   "cell_type": "markdown",
   "metadata": {},
   "source": [
    "#### The second column look like a regular categorical column, however, we can see there are some values which have just one occurance"
   ]
  },
  {
   "cell_type": "code",
   "execution_count": 22,
   "metadata": {},
   "outputs": [
    {
     "data": {
      "text/plain": [
       "2013-01-16    1514\n",
       "2013-02-25    1500\n",
       "2013-01-27    1493\n",
       "2013-02-15    1491\n",
       "2013-01-11    1489\n",
       "2013-01-03    1480\n",
       "2013-02-03    1478\n",
       "2013-01-23    1475\n",
       "2013-02-04    1474\n",
       "2013-02-28    1470\n",
       "Name: date, dtype: int64"
      ]
     },
     "execution_count": 22,
     "metadata": {},
     "output_type": "execute_result"
    }
   ],
   "source": [
    "data['date'].value_counts()[:10]"
   ]
  },
  {
   "cell_type": "markdown",
   "metadata": {},
   "source": [
    "#### The third column look like a regular datetime column, but lets say we want to use this in a machine learning model, in that we cant use dates in their raw form"
   ]
  },
  {
   "cell_type": "code",
   "execution_count": 24,
   "metadata": {},
   "outputs": [
    {
     "data": {
      "text/plain": [
       "0.000000      8344\n",
       "100.000000    2802\n",
       "99.987790      824\n",
       "100.001600     516\n",
       "100.000070     421\n",
       "              ... \n",
       "23.943835        1\n",
       "65.783690        1\n",
       "0.001530         1\n",
       "83.621280        1\n",
       "19.262700        1\n",
       "Name: num, Length: 9535, dtype: int64"
      ]
     },
     "execution_count": 24,
     "metadata": {},
     "output_type": "execute_result"
    }
   ],
   "source": [
    "data['num'].value_counts()"
   ]
  },
  {
   "cell_type": "markdown",
   "metadata": {},
   "source": [
    "#### Finally a regular numerical column, with nans ofcourse"
   ]
  },
  {
   "cell_type": "markdown",
   "metadata": {},
   "source": [
    "### Now lets use our preprocessor package to create a piple line for this data"
   ]
  },
  {
   "cell_type": "code",
   "execution_count": 27,
   "metadata": {},
   "outputs": [],
   "source": [
    "verbose = True"
   ]
  },
  {
   "cell_type": "code",
   "execution_count": 30,
   "metadata": {},
   "outputs": [
    {
     "name": "stderr",
     "output_type": "stream",
     "text": [
      "creating cat_numerical: 100%|████████████████████████████████████████████████████████████| 2/2 [00:00<00:00,  6.01it/s]\n"
     ]
    },
    {
     "name": "stdout",
     "output_type": "stream",
     "text": [
      "Cheking columns provided in Include 2\n",
      "Gathering useless columns, columns with just one unique value\n"
     ]
    },
    {
     "name": "stderr",
     "output_type": "stream",
     "text": [
      "Useless columns found 0 : 100%|█████████████████████████████████████████████████████████| 2/2 [00:00<00:00, 399.61it/s]\n"
     ]
    },
    {
     "name": "stdout",
     "output_type": "stream",
     "text": [
      "Deleting..\n",
      "Deletion complete\n",
      "Dataframe shape after deleting  (86273, 6)\n"
     ]
    },
    {
     "data": {
      "text/html": [
       "<div>\n",
       "<style scoped>\n",
       "    .dataframe tbody tr th:only-of-type {\n",
       "        vertical-align: middle;\n",
       "    }\n",
       "\n",
       "    .dataframe tbody tr th {\n",
       "        vertical-align: top;\n",
       "    }\n",
       "\n",
       "    .dataframe thead th {\n",
       "        text-align: right;\n",
       "    }\n",
       "</style>\n",
       "<table border=\"1\" class=\"dataframe\">\n",
       "  <thead>\n",
       "    <tr style=\"text-align: right;\">\n",
       "      <th></th>\n",
       "      <th>mixed</th>\n",
       "      <th>cat</th>\n",
       "      <th>date</th>\n",
       "      <th>num</th>\n",
       "      <th>mixed_numerical</th>\n",
       "      <th>cat_numerical</th>\n",
       "    </tr>\n",
       "  </thead>\n",
       "  <tbody>\n",
       "    <tr>\n",
       "      <td>0</td>\n",
       "      <td>NaN</td>\n",
       "      <td>HT33</td>\n",
       "      <td>2013-02-17</td>\n",
       "      <td>10.172877</td>\n",
       "      <td>NaN</td>\n",
       "      <td>NaN</td>\n",
       "    </tr>\n",
       "    <tr>\n",
       "      <td>1</td>\n",
       "      <td>NaN</td>\n",
       "      <td>HT33</td>\n",
       "      <td>2013-02-08</td>\n",
       "      <td>10.172877</td>\n",
       "      <td>NaN</td>\n",
       "      <td>NaN</td>\n",
       "    </tr>\n",
       "    <tr>\n",
       "      <td>2</td>\n",
       "      <td>NaN</td>\n",
       "      <td>HT33</td>\n",
       "      <td>2013-02-17</td>\n",
       "      <td>10.191187</td>\n",
       "      <td>NaN</td>\n",
       "      <td>NaN</td>\n",
       "    </tr>\n",
       "    <tr>\n",
       "      <td>3</td>\n",
       "      <td>NaN</td>\n",
       "      <td>HT33</td>\n",
       "      <td>2013-02-16</td>\n",
       "      <td>10.188137</td>\n",
       "      <td>NaN</td>\n",
       "      <td>NaN</td>\n",
       "    </tr>\n",
       "    <tr>\n",
       "      <td>4</td>\n",
       "      <td>NaN</td>\n",
       "      <td>8D97</td>\n",
       "      <td>2013-02-26</td>\n",
       "      <td>0.000000</td>\n",
       "      <td>NaN</td>\n",
       "      <td>NaN</td>\n",
       "    </tr>\n",
       "  </tbody>\n",
       "</table>\n",
       "</div>"
      ],
      "text/plain": [
       "  mixed   cat       date        num  mixed_numerical  cat_numerical\n",
       "0   NaN  HT33 2013-02-17  10.172877              NaN            NaN\n",
       "1   NaN  HT33 2013-02-08  10.172877              NaN            NaN\n",
       "2   NaN  HT33 2013-02-17  10.191187              NaN            NaN\n",
       "3   NaN  HT33 2013-02-16  10.188137              NaN            NaN\n",
       "4   NaN  8D97 2013-02-26   0.000000              NaN            NaN"
      ]
     },
     "execution_count": 30,
     "metadata": {},
     "output_type": "execute_result"
    }
   ],
   "source": [
    "# First lets try to deal with the mixed column(s)\n",
    "\n",
    "from preprocessor.feature_extractor import extract_numericals_forall\n",
    "\n",
    "# extract_numericals_forall goes through all categorical columns and tries to see if it is a mixed column\n",
    "# if it is, it creates a new column with the column name + '_numerical' as suffix and puts all numerical\n",
    "# values in the new column\n",
    "df1 = extract_numericals_forall(data,verbose =verbose)\n",
    "df1.head()"
   ]
  },
  {
   "cell_type": "markdown",
   "metadata": {},
   "source": [
    "#### We see we were able to generate two new numerical columns, lets analyze them"
   ]
  },
  {
   "cell_type": "code",
   "execution_count": 38,
   "metadata": {},
   "outputs": [
    {
     "name": "stdout",
     "output_type": "stream",
     "text": [
      "0.000000e+00    257\n",
      "1.000000e+02    157\n",
      "1.000000e+00     69\n",
      "2.000000e+00     55\n",
      "3.000000e+00     31\n",
      "               ... \n",
      "9.999841e+01      1\n",
      "1.449463e+06      1\n",
      "9.999750e+01      1\n",
      "4.278300e+05      1\n",
      "1.638170e+05      1\n",
      "Name: mixed_numerical, Length: 1012, dtype: int64 5.000000e+51    588\n",
      "2.000000e+51    351\n",
      "5.000000e+52    348\n",
      "7.000000e+01    340\n",
      "5.000000e+71    336\n",
      "7.000000e+41    180\n",
      "4.000000e+91    150\n",
      "2.000000e+52    137\n",
      "7.000000e+21    132\n",
      "8.000000e+53    129\n",
      "Name: cat_numerical, dtype: int64\n"
     ]
    }
   ],
   "source": [
    "print(df1['mixed_numerical'].value_counts(), df1['cat_numerical'].value_counts().nlargest(10))"
   ]
  },
  {
   "cell_type": "markdown",
   "metadata": {},
   "source": [
    "#### We see that mixed_numerical looks like a sensible column while on first glance cat_numerical seems to be constructed of values in cat column which just happen to be interpretable as numericals. Therefore we decide to just extract numericals from one column instead of all categorical columns in our pipleline"
   ]
  },
  {
   "cell_type": "code",
   "execution_count": 39,
   "metadata": {},
   "outputs": [
    {
     "name": "stdout",
     "output_type": "stream",
     "text": [
      "creating mixed_numerical\n"
     ]
    },
    {
     "data": {
      "text/html": [
       "<div>\n",
       "<style scoped>\n",
       "    .dataframe tbody tr th:only-of-type {\n",
       "        vertical-align: middle;\n",
       "    }\n",
       "\n",
       "    .dataframe tbody tr th {\n",
       "        vertical-align: top;\n",
       "    }\n",
       "\n",
       "    .dataframe thead th {\n",
       "        text-align: right;\n",
       "    }\n",
       "</style>\n",
       "<table border=\"1\" class=\"dataframe\">\n",
       "  <thead>\n",
       "    <tr style=\"text-align: right;\">\n",
       "      <th></th>\n",
       "      <th>mixed</th>\n",
       "      <th>cat</th>\n",
       "      <th>date</th>\n",
       "      <th>num</th>\n",
       "      <th>mixed_numerical</th>\n",
       "    </tr>\n",
       "  </thead>\n",
       "  <tbody>\n",
       "    <tr>\n",
       "      <td>0</td>\n",
       "      <td>NaN</td>\n",
       "      <td>HT33</td>\n",
       "      <td>2013-02-17</td>\n",
       "      <td>10.172877</td>\n",
       "      <td>NaN</td>\n",
       "    </tr>\n",
       "    <tr>\n",
       "      <td>1</td>\n",
       "      <td>NaN</td>\n",
       "      <td>HT33</td>\n",
       "      <td>2013-02-08</td>\n",
       "      <td>10.172877</td>\n",
       "      <td>NaN</td>\n",
       "    </tr>\n",
       "    <tr>\n",
       "      <td>2</td>\n",
       "      <td>NaN</td>\n",
       "      <td>HT33</td>\n",
       "      <td>2013-02-17</td>\n",
       "      <td>10.191187</td>\n",
       "      <td>NaN</td>\n",
       "    </tr>\n",
       "    <tr>\n",
       "      <td>3</td>\n",
       "      <td>NaN</td>\n",
       "      <td>HT33</td>\n",
       "      <td>2013-02-16</td>\n",
       "      <td>10.188137</td>\n",
       "      <td>NaN</td>\n",
       "    </tr>\n",
       "    <tr>\n",
       "      <td>4</td>\n",
       "      <td>NaN</td>\n",
       "      <td>8D97</td>\n",
       "      <td>2013-02-26</td>\n",
       "      <td>0.000000</td>\n",
       "      <td>NaN</td>\n",
       "    </tr>\n",
       "  </tbody>\n",
       "</table>\n",
       "</div>"
      ],
      "text/plain": [
       "  mixed   cat       date        num  mixed_numerical\n",
       "0   NaN  HT33 2013-02-17  10.172877              NaN\n",
       "1   NaN  HT33 2013-02-08  10.172877              NaN\n",
       "2   NaN  HT33 2013-02-17  10.191187              NaN\n",
       "3   NaN  HT33 2013-02-16  10.188137              NaN\n",
       "4   NaN  8D97 2013-02-26   0.000000              NaN"
      ]
     },
     "execution_count": 39,
     "metadata": {},
     "output_type": "execute_result"
    }
   ],
   "source": [
    "from preprocessor.feature_extractor import extract_numericals\n",
    "\n",
    "df1 = extract_numericals(data,col = 'mixed',verbose =verbose)\n",
    "df1.head()"
   ]
  },
  {
   "cell_type": "markdown",
   "metadata": {},
   "source": [
    "#### Now that we have extracted the numbers from 'mixed', we want to remove numericals from the actual 'mixed' column in order to make it purely categorical"
   ]
  },
  {
   "cell_type": "code",
   "execution_count": 47,
   "metadata": {},
   "outputs": [
    {
     "name": "stdout",
     "output_type": "stream",
     "text": [
      "Removing numericals from categorical columns provided in Include 1\n"
     ]
    },
    {
     "name": "stderr",
     "output_type": "stream",
     "text": [
      "Removing numericals from mixed: 100%|████████████████████████████████████████████████████| 1/1 [00:00<00:00, 15.87it/s]\n"
     ]
    },
    {
     "data": {
      "text/plain": [
       "NEIN            51\n",
       "Eastern Asia     8\n",
       "Name: mixed, dtype: int64"
      ]
     },
     "execution_count": 47,
     "metadata": {},
     "output_type": "execute_result"
    }
   ],
   "source": [
    "from preprocessor.imputer import remove_numericals_from_categories\n",
    "\n",
    "# Delete all numericals from 'mixed' column\n",
    "df2 = remove_numericals_from_categories(df1,include=['mixed'],verbose =verbose)\n",
    "df2['mixed'].value_counts()"
   ]
  },
  {
   "cell_type": "markdown",
   "metadata": {},
   "source": [
    "#### At this point we can assume that 'mixed' is not a useful column anymore so we can delete it, since our df2 object is a regular pandas data structure we can use all pandas functions without any problem"
   ]
  },
  {
   "cell_type": "code",
   "execution_count": 49,
   "metadata": {},
   "outputs": [
    {
     "data": {
      "text/html": [
       "<div>\n",
       "<style scoped>\n",
       "    .dataframe tbody tr th:only-of-type {\n",
       "        vertical-align: middle;\n",
       "    }\n",
       "\n",
       "    .dataframe tbody tr th {\n",
       "        vertical-align: top;\n",
       "    }\n",
       "\n",
       "    .dataframe thead th {\n",
       "        text-align: right;\n",
       "    }\n",
       "</style>\n",
       "<table border=\"1\" class=\"dataframe\">\n",
       "  <thead>\n",
       "    <tr style=\"text-align: right;\">\n",
       "      <th></th>\n",
       "      <th>cat</th>\n",
       "      <th>date</th>\n",
       "      <th>num</th>\n",
       "      <th>mixed_numerical</th>\n",
       "    </tr>\n",
       "  </thead>\n",
       "  <tbody>\n",
       "    <tr>\n",
       "      <td>0</td>\n",
       "      <td>HT33</td>\n",
       "      <td>2013-02-17</td>\n",
       "      <td>10.172877</td>\n",
       "      <td>NaN</td>\n",
       "    </tr>\n",
       "    <tr>\n",
       "      <td>1</td>\n",
       "      <td>HT33</td>\n",
       "      <td>2013-02-08</td>\n",
       "      <td>10.172877</td>\n",
       "      <td>NaN</td>\n",
       "    </tr>\n",
       "    <tr>\n",
       "      <td>2</td>\n",
       "      <td>HT33</td>\n",
       "      <td>2013-02-17</td>\n",
       "      <td>10.191187</td>\n",
       "      <td>NaN</td>\n",
       "    </tr>\n",
       "    <tr>\n",
       "      <td>3</td>\n",
       "      <td>HT33</td>\n",
       "      <td>2013-02-16</td>\n",
       "      <td>10.188137</td>\n",
       "      <td>NaN</td>\n",
       "    </tr>\n",
       "    <tr>\n",
       "      <td>4</td>\n",
       "      <td>8D97</td>\n",
       "      <td>2013-02-26</td>\n",
       "      <td>0.000000</td>\n",
       "      <td>NaN</td>\n",
       "    </tr>\n",
       "  </tbody>\n",
       "</table>\n",
       "</div>"
      ],
      "text/plain": [
       "    cat       date        num  mixed_numerical\n",
       "0  HT33 2013-02-17  10.172877              NaN\n",
       "1  HT33 2013-02-08  10.172877              NaN\n",
       "2  HT33 2013-02-17  10.191187              NaN\n",
       "3  HT33 2013-02-16  10.188137              NaN\n",
       "4  8D97 2013-02-26   0.000000              NaN"
      ]
     },
     "execution_count": 49,
     "metadata": {},
     "output_type": "execute_result"
    }
   ],
   "source": [
    "df3 = df2.drop(['mixed'], axis=1)\n",
    "df3.head()"
   ]
  },
  {
   "cell_type": "markdown",
   "metadata": {},
   "source": [
    "#### Awsome, now that we have dealt with 'mixed', lets focus on date column now"
   ]
  },
  {
   "cell_type": "code",
   "execution_count": 60,
   "metadata": {},
   "outputs": [
    {
     "name": "stderr",
     "output_type": "stream",
     "text": [
      "Extracting 15 datetime features from date: 100%|█████████████████████████████████████████| 1/1 [00:03<00:00,  3.53s/it]\n"
     ]
    },
    {
     "name": "stdout",
     "output_type": "stream",
     "text": [
      "Cheking columns provided in Include 15\n",
      "Gathering useless columns, columns with just one unique value\n"
     ]
    },
    {
     "name": "stderr",
     "output_type": "stream",
     "text": [
      "Useless columns found 5: 100%|████████████████████████████████████████████████████████| 15/15 [00:00<00:00, 576.97it/s]\n"
     ]
    },
    {
     "name": "stdout",
     "output_type": "stream",
     "text": [
      "Deleting..\n",
      "Deletion complete\n",
      "Dataframe shape after deleting  (86273, 14)\n",
      "Deleting all Datetime columns\n"
     ]
    },
    {
     "data": {
      "text/html": [
       "<div>\n",
       "<style scoped>\n",
       "    .dataframe tbody tr th:only-of-type {\n",
       "        vertical-align: middle;\n",
       "    }\n",
       "\n",
       "    .dataframe tbody tr th {\n",
       "        vertical-align: top;\n",
       "    }\n",
       "\n",
       "    .dataframe thead th {\n",
       "        text-align: right;\n",
       "    }\n",
       "</style>\n",
       "<table border=\"1\" class=\"dataframe\">\n",
       "  <thead>\n",
       "    <tr style=\"text-align: right;\">\n",
       "      <th></th>\n",
       "      <th>cat</th>\n",
       "      <th>num</th>\n",
       "      <th>mixed_numerical</th>\n",
       "      <th>date_month</th>\n",
       "      <th>date_day</th>\n",
       "      <th>date_dayofyear</th>\n",
       "      <th>date_weekofyear</th>\n",
       "      <th>date_week</th>\n",
       "      <th>date_dayofweek</th>\n",
       "      <th>date_is_month_start</th>\n",
       "      <th>date_is_month_end</th>\n",
       "      <th>date_is_quarter_start</th>\n",
       "      <th>date_is_year_start</th>\n",
       "    </tr>\n",
       "  </thead>\n",
       "  <tbody>\n",
       "    <tr>\n",
       "      <td>0</td>\n",
       "      <td>HT33</td>\n",
       "      <td>10.172877</td>\n",
       "      <td>NaN</td>\n",
       "      <td>2</td>\n",
       "      <td>17</td>\n",
       "      <td>48</td>\n",
       "      <td>7</td>\n",
       "      <td>7</td>\n",
       "      <td>6</td>\n",
       "      <td>0</td>\n",
       "      <td>0</td>\n",
       "      <td>0</td>\n",
       "      <td>0</td>\n",
       "    </tr>\n",
       "    <tr>\n",
       "      <td>1</td>\n",
       "      <td>HT33</td>\n",
       "      <td>10.172877</td>\n",
       "      <td>NaN</td>\n",
       "      <td>2</td>\n",
       "      <td>8</td>\n",
       "      <td>39</td>\n",
       "      <td>6</td>\n",
       "      <td>6</td>\n",
       "      <td>4</td>\n",
       "      <td>0</td>\n",
       "      <td>0</td>\n",
       "      <td>0</td>\n",
       "      <td>0</td>\n",
       "    </tr>\n",
       "    <tr>\n",
       "      <td>2</td>\n",
       "      <td>HT33</td>\n",
       "      <td>10.191187</td>\n",
       "      <td>NaN</td>\n",
       "      <td>2</td>\n",
       "      <td>17</td>\n",
       "      <td>48</td>\n",
       "      <td>7</td>\n",
       "      <td>7</td>\n",
       "      <td>6</td>\n",
       "      <td>0</td>\n",
       "      <td>0</td>\n",
       "      <td>0</td>\n",
       "      <td>0</td>\n",
       "    </tr>\n",
       "    <tr>\n",
       "      <td>3</td>\n",
       "      <td>HT33</td>\n",
       "      <td>10.188137</td>\n",
       "      <td>NaN</td>\n",
       "      <td>2</td>\n",
       "      <td>16</td>\n",
       "      <td>47</td>\n",
       "      <td>7</td>\n",
       "      <td>7</td>\n",
       "      <td>5</td>\n",
       "      <td>0</td>\n",
       "      <td>0</td>\n",
       "      <td>0</td>\n",
       "      <td>0</td>\n",
       "    </tr>\n",
       "    <tr>\n",
       "      <td>4</td>\n",
       "      <td>8D97</td>\n",
       "      <td>0.000000</td>\n",
       "      <td>NaN</td>\n",
       "      <td>2</td>\n",
       "      <td>26</td>\n",
       "      <td>57</td>\n",
       "      <td>9</td>\n",
       "      <td>9</td>\n",
       "      <td>1</td>\n",
       "      <td>0</td>\n",
       "      <td>0</td>\n",
       "      <td>0</td>\n",
       "      <td>0</td>\n",
       "    </tr>\n",
       "  </tbody>\n",
       "</table>\n",
       "</div>"
      ],
      "text/plain": [
       "    cat        num  mixed_numerical  date_month  date_day  date_dayofyear  \\\n",
       "0  HT33  10.172877              NaN           2        17              48   \n",
       "1  HT33  10.172877              NaN           2         8              39   \n",
       "2  HT33  10.191187              NaN           2        17              48   \n",
       "3  HT33  10.188137              NaN           2        16              47   \n",
       "4  8D97   0.000000              NaN           2        26              57   \n",
       "\n",
       "   date_weekofyear  date_week  date_dayofweek  date_is_month_start  \\\n",
       "0                7          7               6                    0   \n",
       "1                6          6               4                    0   \n",
       "2                7          7               6                    0   \n",
       "3                7          7               5                    0   \n",
       "4                9          9               1                    0   \n",
       "\n",
       "   date_is_month_end  date_is_quarter_start  date_is_year_start  \n",
       "0                  0                      0                   0  \n",
       "1                  0                      0                   0  \n",
       "2                  0                      0                   0  \n",
       "3                  0                      0                   0  \n",
       "4                  0                      0                   0  "
      ]
     },
     "execution_count": 60,
     "metadata": {},
     "output_type": "execute_result"
    }
   ],
   "source": [
    "# Lets try to extract some features from the date column\n",
    "\n",
    "from preprocessor.feature_extractor import extract_datetime_features_forall\n",
    "from preprocessor.imputer import remove_datetimes\n",
    "\n",
    "# extract_datetime_features_forall goes through all datetime columns and tries to extract 15 predefined features from them\n",
    "df4 = extract_datetime_features_forall(df3,verbose =verbose)\n",
    "# since we have the features extracted, no need for keeping datetime columns anymore\n",
    "df4 = remove_datetimes(df4, verbose = verbose) \n",
    "df4.head()"
   ]
  },
  {
   "cell_type": "markdown",
   "metadata": {},
   "source": [
    "#### Great, so we have extracted 15 features from one datetime column, and we could have extracted n*15 where n is number of date time columns in the data"
   ]
  },
  {
   "cell_type": "markdown",
   "metadata": {},
   "source": [
    "#### Next, Lets try to see if we have any infs or -infs in the data, lets say for now I want to make a new feature column for whenever we find infs in a column"
   ]
  },
  {
   "cell_type": "code",
   "execution_count": 61,
   "metadata": {},
   "outputs": [
    {
     "name": "stderr",
     "output_type": "stream",
     "text": [
      "Adding num_isinf column: 100%|█████████████████████████████████████████████████████████| 12/12 [00:00<00:00, 32.79it/s]\n"
     ]
    },
    {
     "name": "stdout",
     "output_type": "stream",
     "text": [
      "Cheking columns provided in Include 12\n",
      "Gathering useless columns, columns with just one unique value\n"
     ]
    },
    {
     "name": "stderr",
     "output_type": "stream",
     "text": [
      "Useless columns found 12: 100%|███████████████████████████████████████████████████████| 12/12 [00:00<00:00, 387.13it/s]\n"
     ]
    },
    {
     "name": "stdout",
     "output_type": "stream",
     "text": [
      "Deleting..\n",
      "Deletion complete\n",
      "Dataframe shape after deleting  (86273, 13)\n"
     ]
    },
    {
     "data": {
      "text/html": [
       "<div>\n",
       "<style scoped>\n",
       "    .dataframe tbody tr th:only-of-type {\n",
       "        vertical-align: middle;\n",
       "    }\n",
       "\n",
       "    .dataframe tbody tr th {\n",
       "        vertical-align: top;\n",
       "    }\n",
       "\n",
       "    .dataframe thead th {\n",
       "        text-align: right;\n",
       "    }\n",
       "</style>\n",
       "<table border=\"1\" class=\"dataframe\">\n",
       "  <thead>\n",
       "    <tr style=\"text-align: right;\">\n",
       "      <th></th>\n",
       "      <th>cat</th>\n",
       "      <th>num</th>\n",
       "      <th>mixed_numerical</th>\n",
       "      <th>date_month</th>\n",
       "      <th>date_day</th>\n",
       "      <th>date_dayofyear</th>\n",
       "      <th>date_weekofyear</th>\n",
       "      <th>date_week</th>\n",
       "      <th>date_dayofweek</th>\n",
       "      <th>date_is_month_start</th>\n",
       "      <th>date_is_month_end</th>\n",
       "      <th>date_is_quarter_start</th>\n",
       "      <th>date_is_year_start</th>\n",
       "    </tr>\n",
       "  </thead>\n",
       "  <tbody>\n",
       "    <tr>\n",
       "      <td>0</td>\n",
       "      <td>HT33</td>\n",
       "      <td>10.172877</td>\n",
       "      <td>NaN</td>\n",
       "      <td>2</td>\n",
       "      <td>17</td>\n",
       "      <td>48</td>\n",
       "      <td>7</td>\n",
       "      <td>7</td>\n",
       "      <td>6</td>\n",
       "      <td>0</td>\n",
       "      <td>0</td>\n",
       "      <td>0</td>\n",
       "      <td>0</td>\n",
       "    </tr>\n",
       "    <tr>\n",
       "      <td>1</td>\n",
       "      <td>HT33</td>\n",
       "      <td>10.172877</td>\n",
       "      <td>NaN</td>\n",
       "      <td>2</td>\n",
       "      <td>8</td>\n",
       "      <td>39</td>\n",
       "      <td>6</td>\n",
       "      <td>6</td>\n",
       "      <td>4</td>\n",
       "      <td>0</td>\n",
       "      <td>0</td>\n",
       "      <td>0</td>\n",
       "      <td>0</td>\n",
       "    </tr>\n",
       "    <tr>\n",
       "      <td>2</td>\n",
       "      <td>HT33</td>\n",
       "      <td>10.191187</td>\n",
       "      <td>NaN</td>\n",
       "      <td>2</td>\n",
       "      <td>17</td>\n",
       "      <td>48</td>\n",
       "      <td>7</td>\n",
       "      <td>7</td>\n",
       "      <td>6</td>\n",
       "      <td>0</td>\n",
       "      <td>0</td>\n",
       "      <td>0</td>\n",
       "      <td>0</td>\n",
       "    </tr>\n",
       "    <tr>\n",
       "      <td>3</td>\n",
       "      <td>HT33</td>\n",
       "      <td>10.188137</td>\n",
       "      <td>NaN</td>\n",
       "      <td>2</td>\n",
       "      <td>16</td>\n",
       "      <td>47</td>\n",
       "      <td>7</td>\n",
       "      <td>7</td>\n",
       "      <td>5</td>\n",
       "      <td>0</td>\n",
       "      <td>0</td>\n",
       "      <td>0</td>\n",
       "      <td>0</td>\n",
       "    </tr>\n",
       "    <tr>\n",
       "      <td>4</td>\n",
       "      <td>8D97</td>\n",
       "      <td>0.000000</td>\n",
       "      <td>NaN</td>\n",
       "      <td>2</td>\n",
       "      <td>26</td>\n",
       "      <td>57</td>\n",
       "      <td>9</td>\n",
       "      <td>9</td>\n",
       "      <td>1</td>\n",
       "      <td>0</td>\n",
       "      <td>0</td>\n",
       "      <td>0</td>\n",
       "      <td>0</td>\n",
       "    </tr>\n",
       "  </tbody>\n",
       "</table>\n",
       "</div>"
      ],
      "text/plain": [
       "    cat        num  mixed_numerical  date_month  date_day  date_dayofyear  \\\n",
       "0  HT33  10.172877              NaN           2        17              48   \n",
       "1  HT33  10.172877              NaN           2         8              39   \n",
       "2  HT33  10.191187              NaN           2        17              48   \n",
       "3  HT33  10.188137              NaN           2        16              47   \n",
       "4  8D97   0.000000              NaN           2        26              57   \n",
       "\n",
       "   date_weekofyear  date_week  date_dayofweek  date_is_month_start  \\\n",
       "0                7          7               6                    0   \n",
       "1                6          6               4                    0   \n",
       "2                7          7               6                    0   \n",
       "3                7          7               5                    0   \n",
       "4                9          9               1                    0   \n",
       "\n",
       "   date_is_month_end  date_is_quarter_start  date_is_year_start  \n",
       "0                  0                      0                   0  \n",
       "1                  0                      0                   0  \n",
       "2                  0                      0                   0  \n",
       "3                  0                      0                   0  \n",
       "4                  0                      0                   0  "
      ]
     },
     "execution_count": 61,
     "metadata": {},
     "output_type": "execute_result"
    }
   ],
   "source": [
    "# Lets try to extract some features from the date column\n",
    "\n",
    "from preprocessor.feature_extractor import extract_is_inf_forall\n",
    "\n",
    "# extract_is_inf_forall goes through all numerical columns and create a new column for infs if any\n",
    "# if seperate_ninf is true then the new column has 3 unique values (1 for inf, 0 for no inf & -1 for ninf)\n",
    "# otherwise the new column is a boolean which is true if any kind of inf was encountered\n",
    "df5 = extract_is_inf_forall(df4,verbose =verbose, seperate_ninf = True)\n",
    "df5.head()"
   ]
  },
  {
   "cell_type": "markdown",
   "metadata": {},
   "source": [
    "#### We can see that since no infs were found in any of the data, we might conclude that we might never encounter infs in our data and hence never include this step in our final piple line"
   ]
  },
  {
   "cell_type": "markdown",
   "metadata": {},
   "source": [
    "#### Now if we remember correctly some of our numerical columns had numbers of varying range, may be outliers which might affect rest of our statistics, So lets identify outliers and remove if we find any"
   ]
  },
  {
   "cell_type": "code",
   "execution_count": 62,
   "metadata": {},
   "outputs": [
    {
     "name": "stderr",
     "output_type": "stream",
     "text": [
      "Replacing outliers in num with nan: 100%|██████████████████████████████████████████████| 12/12 [00:00<00:00, 17.27it/s]\n"
     ]
    },
    {
     "name": "stdout",
     "output_type": "stream",
     "text": [
      "Cheking columns provided in Include 12\n",
      "Gathering useless columns, columns with just one unique value\n"
     ]
    },
    {
     "name": "stderr",
     "output_type": "stream",
     "text": [
      "Useless columns found 7: 100%|█████████████████████████████████████████████████████████| 12/12 [00:00<00:00, 59.70it/s]\n"
     ]
    },
    {
     "name": "stdout",
     "output_type": "stream",
     "text": [
      "Deleting..\n",
      "Deletion complete\n",
      "Dataframe shape after deleting  (86273, 18)\n"
     ]
    },
    {
     "data": {
      "text/html": [
       "<div>\n",
       "<style scoped>\n",
       "    .dataframe tbody tr th:only-of-type {\n",
       "        vertical-align: middle;\n",
       "    }\n",
       "\n",
       "    .dataframe tbody tr th {\n",
       "        vertical-align: top;\n",
       "    }\n",
       "\n",
       "    .dataframe thead th {\n",
       "        text-align: right;\n",
       "    }\n",
       "</style>\n",
       "<table border=\"1\" class=\"dataframe\">\n",
       "  <thead>\n",
       "    <tr style=\"text-align: right;\">\n",
       "      <th></th>\n",
       "      <th>cat</th>\n",
       "      <th>num</th>\n",
       "      <th>mixed_numerical</th>\n",
       "      <th>date_month</th>\n",
       "      <th>date_day</th>\n",
       "      <th>date_dayofyear</th>\n",
       "      <th>date_weekofyear</th>\n",
       "      <th>date_week</th>\n",
       "      <th>date_dayofweek</th>\n",
       "      <th>date_is_month_start</th>\n",
       "      <th>date_is_month_end</th>\n",
       "      <th>date_is_quarter_start</th>\n",
       "      <th>date_is_year_start</th>\n",
       "      <th>mixed_numerical_isoutlier</th>\n",
       "      <th>date_is_year_start_isoutlier</th>\n",
       "      <th>date_is_quarter_start_isoutlier</th>\n",
       "      <th>date_is_month_end_isoutlier</th>\n",
       "      <th>num_isoutlier</th>\n",
       "    </tr>\n",
       "  </thead>\n",
       "  <tbody>\n",
       "    <tr>\n",
       "      <td>0</td>\n",
       "      <td>HT33</td>\n",
       "      <td>10.172877</td>\n",
       "      <td>NaN</td>\n",
       "      <td>2.0</td>\n",
       "      <td>17.0</td>\n",
       "      <td>48.0</td>\n",
       "      <td>7.0</td>\n",
       "      <td>7.0</td>\n",
       "      <td>6.0</td>\n",
       "      <td>0.0</td>\n",
       "      <td>0.0</td>\n",
       "      <td>0.0</td>\n",
       "      <td>0.0</td>\n",
       "      <td>0</td>\n",
       "      <td>0</td>\n",
       "      <td>0</td>\n",
       "      <td>0</td>\n",
       "      <td>0</td>\n",
       "    </tr>\n",
       "    <tr>\n",
       "      <td>1</td>\n",
       "      <td>HT33</td>\n",
       "      <td>10.172877</td>\n",
       "      <td>NaN</td>\n",
       "      <td>2.0</td>\n",
       "      <td>8.0</td>\n",
       "      <td>39.0</td>\n",
       "      <td>6.0</td>\n",
       "      <td>6.0</td>\n",
       "      <td>4.0</td>\n",
       "      <td>0.0</td>\n",
       "      <td>0.0</td>\n",
       "      <td>0.0</td>\n",
       "      <td>0.0</td>\n",
       "      <td>0</td>\n",
       "      <td>0</td>\n",
       "      <td>0</td>\n",
       "      <td>0</td>\n",
       "      <td>0</td>\n",
       "    </tr>\n",
       "    <tr>\n",
       "      <td>2</td>\n",
       "      <td>HT33</td>\n",
       "      <td>10.191187</td>\n",
       "      <td>NaN</td>\n",
       "      <td>2.0</td>\n",
       "      <td>17.0</td>\n",
       "      <td>48.0</td>\n",
       "      <td>7.0</td>\n",
       "      <td>7.0</td>\n",
       "      <td>6.0</td>\n",
       "      <td>0.0</td>\n",
       "      <td>0.0</td>\n",
       "      <td>0.0</td>\n",
       "      <td>0.0</td>\n",
       "      <td>0</td>\n",
       "      <td>0</td>\n",
       "      <td>0</td>\n",
       "      <td>0</td>\n",
       "      <td>0</td>\n",
       "    </tr>\n",
       "    <tr>\n",
       "      <td>3</td>\n",
       "      <td>HT33</td>\n",
       "      <td>10.188137</td>\n",
       "      <td>NaN</td>\n",
       "      <td>2.0</td>\n",
       "      <td>16.0</td>\n",
       "      <td>47.0</td>\n",
       "      <td>7.0</td>\n",
       "      <td>7.0</td>\n",
       "      <td>5.0</td>\n",
       "      <td>0.0</td>\n",
       "      <td>0.0</td>\n",
       "      <td>0.0</td>\n",
       "      <td>0.0</td>\n",
       "      <td>0</td>\n",
       "      <td>0</td>\n",
       "      <td>0</td>\n",
       "      <td>0</td>\n",
       "      <td>0</td>\n",
       "    </tr>\n",
       "    <tr>\n",
       "      <td>4</td>\n",
       "      <td>8D97</td>\n",
       "      <td>0.000000</td>\n",
       "      <td>NaN</td>\n",
       "      <td>2.0</td>\n",
       "      <td>26.0</td>\n",
       "      <td>57.0</td>\n",
       "      <td>9.0</td>\n",
       "      <td>9.0</td>\n",
       "      <td>1.0</td>\n",
       "      <td>0.0</td>\n",
       "      <td>0.0</td>\n",
       "      <td>0.0</td>\n",
       "      <td>0.0</td>\n",
       "      <td>0</td>\n",
       "      <td>0</td>\n",
       "      <td>0</td>\n",
       "      <td>0</td>\n",
       "      <td>0</td>\n",
       "    </tr>\n",
       "  </tbody>\n",
       "</table>\n",
       "</div>"
      ],
      "text/plain": [
       "    cat        num  mixed_numerical  date_month  date_day  date_dayofyear  \\\n",
       "0  HT33  10.172877              NaN         2.0      17.0            48.0   \n",
       "1  HT33  10.172877              NaN         2.0       8.0            39.0   \n",
       "2  HT33  10.191187              NaN         2.0      17.0            48.0   \n",
       "3  HT33  10.188137              NaN         2.0      16.0            47.0   \n",
       "4  8D97   0.000000              NaN         2.0      26.0            57.0   \n",
       "\n",
       "   date_weekofyear  date_week  date_dayofweek  date_is_month_start  \\\n",
       "0              7.0        7.0             6.0                  0.0   \n",
       "1              6.0        6.0             4.0                  0.0   \n",
       "2              7.0        7.0             6.0                  0.0   \n",
       "3              7.0        7.0             5.0                  0.0   \n",
       "4              9.0        9.0             1.0                  0.0   \n",
       "\n",
       "   date_is_month_end  date_is_quarter_start  date_is_year_start  \\\n",
       "0                0.0                    0.0                 0.0   \n",
       "1                0.0                    0.0                 0.0   \n",
       "2                0.0                    0.0                 0.0   \n",
       "3                0.0                    0.0                 0.0   \n",
       "4                0.0                    0.0                 0.0   \n",
       "\n",
       "   mixed_numerical_isoutlier  date_is_year_start_isoutlier  \\\n",
       "0                          0                             0   \n",
       "1                          0                             0   \n",
       "2                          0                             0   \n",
       "3                          0                             0   \n",
       "4                          0                             0   \n",
       "\n",
       "   date_is_quarter_start_isoutlier  date_is_month_end_isoutlier  num_isoutlier  \n",
       "0                                0                            0              0  \n",
       "1                                0                            0              0  \n",
       "2                                0                            0              0  \n",
       "3                                0                            0              0  \n",
       "4                                0                            0              0  "
      ]
     },
     "execution_count": 62,
     "metadata": {},
     "output_type": "execute_result"
    }
   ],
   "source": [
    "from preprocessor.feature_extractor import extract_is_outlier_forall\n",
    "\n",
    "# extract_is_outlier_forall goes through all numerical columns and against each column creates a new boolean column which has true if the value is marked outlier\n",
    "# replace_with if None then leaves outliers intact in the actual column\n",
    "df6 = extract_is_outlier_forall(df4,verbose =verbose, replace_with = np.nan)\n",
    "df6.head()"
   ]
  },
  {
   "cell_type": "markdown",
   "metadata": {},
   "source": [
    "#### Looks like we could only find outliers for some datetime features, depending on if we find it a valid thing in the context of our problem we can ignore or keep this step. For this specific example, in the final pipeline, I'll move this step before extracting date time features in order to don't search outliers in datetime feature columns."
   ]
  },
  {
   "cell_type": "markdown",
   "metadata": {},
   "source": [
    "#### Now lets deal with nans in our numerical columns, we will first create _isnull column against all numerical columns to preserve the nan information"
   ]
  },
  {
   "cell_type": "code",
   "execution_count": 63,
   "metadata": {},
   "outputs": [
    {
     "name": "stderr",
     "output_type": "stream",
     "text": [
      "Adding num_isnull column: 100%|███████████████████████████████████████████████████████| 17/17 [00:00<00:00, 102.41it/s]\n"
     ]
    },
    {
     "name": "stdout",
     "output_type": "stream",
     "text": [
      "Cheking columns provided in Include 5\n",
      "Gathering useless columns, columns with just one unique value\n"
     ]
    },
    {
     "name": "stderr",
     "output_type": "stream",
     "text": [
      "Useless columns found 0 : 100%|█████████████████████████████████████████████████████████| 5/5 [00:00<00:00, 556.20it/s]\n"
     ]
    },
    {
     "name": "stdout",
     "output_type": "stream",
     "text": [
      "Deleting..\n",
      "Deletion complete\n",
      "Dataframe shape after deleting  (86273, 23)\n"
     ]
    },
    {
     "data": {
      "text/html": [
       "<div>\n",
       "<style scoped>\n",
       "    .dataframe tbody tr th:only-of-type {\n",
       "        vertical-align: middle;\n",
       "    }\n",
       "\n",
       "    .dataframe tbody tr th {\n",
       "        vertical-align: top;\n",
       "    }\n",
       "\n",
       "    .dataframe thead th {\n",
       "        text-align: right;\n",
       "    }\n",
       "</style>\n",
       "<table border=\"1\" class=\"dataframe\">\n",
       "  <thead>\n",
       "    <tr style=\"text-align: right;\">\n",
       "      <th></th>\n",
       "      <th>cat</th>\n",
       "      <th>num</th>\n",
       "      <th>mixed_numerical</th>\n",
       "      <th>date_month</th>\n",
       "      <th>date_day</th>\n",
       "      <th>date_dayofyear</th>\n",
       "      <th>date_weekofyear</th>\n",
       "      <th>date_week</th>\n",
       "      <th>date_dayofweek</th>\n",
       "      <th>date_is_month_start</th>\n",
       "      <th>...</th>\n",
       "      <th>mixed_numerical_isoutlier</th>\n",
       "      <th>date_is_year_start_isoutlier</th>\n",
       "      <th>date_is_quarter_start_isoutlier</th>\n",
       "      <th>date_is_month_end_isoutlier</th>\n",
       "      <th>num_isoutlier</th>\n",
       "      <th>mixed_numerical_isnull</th>\n",
       "      <th>date_is_year_start_isnull</th>\n",
       "      <th>date_is_quarter_start_isnull</th>\n",
       "      <th>date_is_month_end_isnull</th>\n",
       "      <th>num_isnull</th>\n",
       "    </tr>\n",
       "  </thead>\n",
       "  <tbody>\n",
       "    <tr>\n",
       "      <td>0</td>\n",
       "      <td>HT33</td>\n",
       "      <td>10.172877</td>\n",
       "      <td>NaN</td>\n",
       "      <td>2.0</td>\n",
       "      <td>17.0</td>\n",
       "      <td>48.0</td>\n",
       "      <td>7.0</td>\n",
       "      <td>7.0</td>\n",
       "      <td>6.0</td>\n",
       "      <td>0.0</td>\n",
       "      <td>...</td>\n",
       "      <td>0</td>\n",
       "      <td>0</td>\n",
       "      <td>0</td>\n",
       "      <td>0</td>\n",
       "      <td>0</td>\n",
       "      <td>True</td>\n",
       "      <td>False</td>\n",
       "      <td>False</td>\n",
       "      <td>False</td>\n",
       "      <td>False</td>\n",
       "    </tr>\n",
       "    <tr>\n",
       "      <td>1</td>\n",
       "      <td>HT33</td>\n",
       "      <td>10.172877</td>\n",
       "      <td>NaN</td>\n",
       "      <td>2.0</td>\n",
       "      <td>8.0</td>\n",
       "      <td>39.0</td>\n",
       "      <td>6.0</td>\n",
       "      <td>6.0</td>\n",
       "      <td>4.0</td>\n",
       "      <td>0.0</td>\n",
       "      <td>...</td>\n",
       "      <td>0</td>\n",
       "      <td>0</td>\n",
       "      <td>0</td>\n",
       "      <td>0</td>\n",
       "      <td>0</td>\n",
       "      <td>True</td>\n",
       "      <td>False</td>\n",
       "      <td>False</td>\n",
       "      <td>False</td>\n",
       "      <td>False</td>\n",
       "    </tr>\n",
       "    <tr>\n",
       "      <td>2</td>\n",
       "      <td>HT33</td>\n",
       "      <td>10.191187</td>\n",
       "      <td>NaN</td>\n",
       "      <td>2.0</td>\n",
       "      <td>17.0</td>\n",
       "      <td>48.0</td>\n",
       "      <td>7.0</td>\n",
       "      <td>7.0</td>\n",
       "      <td>6.0</td>\n",
       "      <td>0.0</td>\n",
       "      <td>...</td>\n",
       "      <td>0</td>\n",
       "      <td>0</td>\n",
       "      <td>0</td>\n",
       "      <td>0</td>\n",
       "      <td>0</td>\n",
       "      <td>True</td>\n",
       "      <td>False</td>\n",
       "      <td>False</td>\n",
       "      <td>False</td>\n",
       "      <td>False</td>\n",
       "    </tr>\n",
       "    <tr>\n",
       "      <td>3</td>\n",
       "      <td>HT33</td>\n",
       "      <td>10.188137</td>\n",
       "      <td>NaN</td>\n",
       "      <td>2.0</td>\n",
       "      <td>16.0</td>\n",
       "      <td>47.0</td>\n",
       "      <td>7.0</td>\n",
       "      <td>7.0</td>\n",
       "      <td>5.0</td>\n",
       "      <td>0.0</td>\n",
       "      <td>...</td>\n",
       "      <td>0</td>\n",
       "      <td>0</td>\n",
       "      <td>0</td>\n",
       "      <td>0</td>\n",
       "      <td>0</td>\n",
       "      <td>True</td>\n",
       "      <td>False</td>\n",
       "      <td>False</td>\n",
       "      <td>False</td>\n",
       "      <td>False</td>\n",
       "    </tr>\n",
       "    <tr>\n",
       "      <td>4</td>\n",
       "      <td>8D97</td>\n",
       "      <td>0.000000</td>\n",
       "      <td>NaN</td>\n",
       "      <td>2.0</td>\n",
       "      <td>26.0</td>\n",
       "      <td>57.0</td>\n",
       "      <td>9.0</td>\n",
       "      <td>9.0</td>\n",
       "      <td>1.0</td>\n",
       "      <td>0.0</td>\n",
       "      <td>...</td>\n",
       "      <td>0</td>\n",
       "      <td>0</td>\n",
       "      <td>0</td>\n",
       "      <td>0</td>\n",
       "      <td>0</td>\n",
       "      <td>True</td>\n",
       "      <td>False</td>\n",
       "      <td>False</td>\n",
       "      <td>False</td>\n",
       "      <td>False</td>\n",
       "    </tr>\n",
       "  </tbody>\n",
       "</table>\n",
       "<p>5 rows × 23 columns</p>\n",
       "</div>"
      ],
      "text/plain": [
       "    cat        num  mixed_numerical  date_month  date_day  date_dayofyear  \\\n",
       "0  HT33  10.172877              NaN         2.0      17.0            48.0   \n",
       "1  HT33  10.172877              NaN         2.0       8.0            39.0   \n",
       "2  HT33  10.191187              NaN         2.0      17.0            48.0   \n",
       "3  HT33  10.188137              NaN         2.0      16.0            47.0   \n",
       "4  8D97   0.000000              NaN         2.0      26.0            57.0   \n",
       "\n",
       "   date_weekofyear  date_week  date_dayofweek  date_is_month_start  ...  \\\n",
       "0              7.0        7.0             6.0                  0.0  ...   \n",
       "1              6.0        6.0             4.0                  0.0  ...   \n",
       "2              7.0        7.0             6.0                  0.0  ...   \n",
       "3              7.0        7.0             5.0                  0.0  ...   \n",
       "4              9.0        9.0             1.0                  0.0  ...   \n",
       "\n",
       "   mixed_numerical_isoutlier  date_is_year_start_isoutlier  \\\n",
       "0                          0                             0   \n",
       "1                          0                             0   \n",
       "2                          0                             0   \n",
       "3                          0                             0   \n",
       "4                          0                             0   \n",
       "\n",
       "   date_is_quarter_start_isoutlier  date_is_month_end_isoutlier  \\\n",
       "0                                0                            0   \n",
       "1                                0                            0   \n",
       "2                                0                            0   \n",
       "3                                0                            0   \n",
       "4                                0                            0   \n",
       "\n",
       "   num_isoutlier  mixed_numerical_isnull  date_is_year_start_isnull  \\\n",
       "0              0                    True                      False   \n",
       "1              0                    True                      False   \n",
       "2              0                    True                      False   \n",
       "3              0                    True                      False   \n",
       "4              0                    True                      False   \n",
       "\n",
       "   date_is_quarter_start_isnull  date_is_month_end_isnull  num_isnull  \n",
       "0                         False                     False       False  \n",
       "1                         False                     False       False  \n",
       "2                         False                     False       False  \n",
       "3                         False                     False       False  \n",
       "4                         False                     False       False  \n",
       "\n",
       "[5 rows x 23 columns]"
      ]
     },
     "execution_count": 63,
     "metadata": {},
     "output_type": "execute_result"
    }
   ],
   "source": [
    "from preprocessor.feature_extractor import extract_is_nan_forall\n",
    "\n",
    "# extract_is_nan_forall goes through all numerical columns and against each column creates a new boolean column which has \n",
    "# true if the value was nan, this perserves the information of nans for when we finally substitute a valid numerical\n",
    "# value against all nulls\n",
    "\n",
    "df7 = extract_is_nan_forall(df6,verbose =verbose)\n",
    "df7.head()"
   ]
  },
  {
   "cell_type": "markdown",
   "metadata": {},
   "source": [
    "#### Once we have all the required information preserved, lets replace nans with median for each column, means are usually susceptible to outliers (One can't be too careful!) "
   ]
  },
  {
   "cell_type": "code",
   "execution_count": 64,
   "metadata": {},
   "outputs": [
    {
     "name": "stdout",
     "output_type": "stream",
     "text": [
      "Filling nans in all columns\n"
     ]
    },
    {
     "name": "stderr",
     "output_type": "stream",
     "text": [
      "Filling nans in num_isoutlier with 0.0: 100%|█████████████████████████████████████████| 22/22 [00:00<00:00, 201.82it/s]\n"
     ]
    },
    {
     "data": {
      "text/html": [
       "<div>\n",
       "<style scoped>\n",
       "    .dataframe tbody tr th:only-of-type {\n",
       "        vertical-align: middle;\n",
       "    }\n",
       "\n",
       "    .dataframe tbody tr th {\n",
       "        vertical-align: top;\n",
       "    }\n",
       "\n",
       "    .dataframe thead th {\n",
       "        text-align: right;\n",
       "    }\n",
       "</style>\n",
       "<table border=\"1\" class=\"dataframe\">\n",
       "  <thead>\n",
       "    <tr style=\"text-align: right;\">\n",
       "      <th></th>\n",
       "      <th>cat</th>\n",
       "      <th>num</th>\n",
       "      <th>mixed_numerical</th>\n",
       "      <th>date_month</th>\n",
       "      <th>date_day</th>\n",
       "      <th>date_dayofyear</th>\n",
       "      <th>date_weekofyear</th>\n",
       "      <th>date_week</th>\n",
       "      <th>date_dayofweek</th>\n",
       "      <th>date_is_month_start</th>\n",
       "      <th>...</th>\n",
       "      <th>mixed_numerical_isoutlier</th>\n",
       "      <th>date_is_year_start_isoutlier</th>\n",
       "      <th>date_is_quarter_start_isoutlier</th>\n",
       "      <th>date_is_month_end_isoutlier</th>\n",
       "      <th>num_isoutlier</th>\n",
       "      <th>mixed_numerical_isnull</th>\n",
       "      <th>date_is_year_start_isnull</th>\n",
       "      <th>date_is_quarter_start_isnull</th>\n",
       "      <th>date_is_month_end_isnull</th>\n",
       "      <th>num_isnull</th>\n",
       "    </tr>\n",
       "  </thead>\n",
       "  <tbody>\n",
       "    <tr>\n",
       "      <td>0</td>\n",
       "      <td>HT33</td>\n",
       "      <td>10.172877</td>\n",
       "      <td>99.995805</td>\n",
       "      <td>2.0</td>\n",
       "      <td>17.0</td>\n",
       "      <td>48.0</td>\n",
       "      <td>7.0</td>\n",
       "      <td>7.0</td>\n",
       "      <td>6.0</td>\n",
       "      <td>0.0</td>\n",
       "      <td>...</td>\n",
       "      <td>0</td>\n",
       "      <td>0</td>\n",
       "      <td>0</td>\n",
       "      <td>0</td>\n",
       "      <td>0</td>\n",
       "      <td>True</td>\n",
       "      <td>False</td>\n",
       "      <td>False</td>\n",
       "      <td>False</td>\n",
       "      <td>False</td>\n",
       "    </tr>\n",
       "    <tr>\n",
       "      <td>1</td>\n",
       "      <td>HT33</td>\n",
       "      <td>10.172877</td>\n",
       "      <td>99.995805</td>\n",
       "      <td>2.0</td>\n",
       "      <td>8.0</td>\n",
       "      <td>39.0</td>\n",
       "      <td>6.0</td>\n",
       "      <td>6.0</td>\n",
       "      <td>4.0</td>\n",
       "      <td>0.0</td>\n",
       "      <td>...</td>\n",
       "      <td>0</td>\n",
       "      <td>0</td>\n",
       "      <td>0</td>\n",
       "      <td>0</td>\n",
       "      <td>0</td>\n",
       "      <td>True</td>\n",
       "      <td>False</td>\n",
       "      <td>False</td>\n",
       "      <td>False</td>\n",
       "      <td>False</td>\n",
       "    </tr>\n",
       "    <tr>\n",
       "      <td>2</td>\n",
       "      <td>HT33</td>\n",
       "      <td>10.191187</td>\n",
       "      <td>99.995805</td>\n",
       "      <td>2.0</td>\n",
       "      <td>17.0</td>\n",
       "      <td>48.0</td>\n",
       "      <td>7.0</td>\n",
       "      <td>7.0</td>\n",
       "      <td>6.0</td>\n",
       "      <td>0.0</td>\n",
       "      <td>...</td>\n",
       "      <td>0</td>\n",
       "      <td>0</td>\n",
       "      <td>0</td>\n",
       "      <td>0</td>\n",
       "      <td>0</td>\n",
       "      <td>True</td>\n",
       "      <td>False</td>\n",
       "      <td>False</td>\n",
       "      <td>False</td>\n",
       "      <td>False</td>\n",
       "    </tr>\n",
       "    <tr>\n",
       "      <td>3</td>\n",
       "      <td>HT33</td>\n",
       "      <td>10.188137</td>\n",
       "      <td>99.995805</td>\n",
       "      <td>2.0</td>\n",
       "      <td>16.0</td>\n",
       "      <td>47.0</td>\n",
       "      <td>7.0</td>\n",
       "      <td>7.0</td>\n",
       "      <td>5.0</td>\n",
       "      <td>0.0</td>\n",
       "      <td>...</td>\n",
       "      <td>0</td>\n",
       "      <td>0</td>\n",
       "      <td>0</td>\n",
       "      <td>0</td>\n",
       "      <td>0</td>\n",
       "      <td>True</td>\n",
       "      <td>False</td>\n",
       "      <td>False</td>\n",
       "      <td>False</td>\n",
       "      <td>False</td>\n",
       "    </tr>\n",
       "    <tr>\n",
       "      <td>4</td>\n",
       "      <td>8D97</td>\n",
       "      <td>0.000000</td>\n",
       "      <td>99.995805</td>\n",
       "      <td>2.0</td>\n",
       "      <td>26.0</td>\n",
       "      <td>57.0</td>\n",
       "      <td>9.0</td>\n",
       "      <td>9.0</td>\n",
       "      <td>1.0</td>\n",
       "      <td>0.0</td>\n",
       "      <td>...</td>\n",
       "      <td>0</td>\n",
       "      <td>0</td>\n",
       "      <td>0</td>\n",
       "      <td>0</td>\n",
       "      <td>0</td>\n",
       "      <td>True</td>\n",
       "      <td>False</td>\n",
       "      <td>False</td>\n",
       "      <td>False</td>\n",
       "      <td>False</td>\n",
       "    </tr>\n",
       "  </tbody>\n",
       "</table>\n",
       "<p>5 rows × 23 columns</p>\n",
       "</div>"
      ],
      "text/plain": [
       "    cat        num  mixed_numerical  date_month  date_day  date_dayofyear  \\\n",
       "0  HT33  10.172877        99.995805         2.0      17.0            48.0   \n",
       "1  HT33  10.172877        99.995805         2.0       8.0            39.0   \n",
       "2  HT33  10.191187        99.995805         2.0      17.0            48.0   \n",
       "3  HT33  10.188137        99.995805         2.0      16.0            47.0   \n",
       "4  8D97   0.000000        99.995805         2.0      26.0            57.0   \n",
       "\n",
       "   date_weekofyear  date_week  date_dayofweek  date_is_month_start  ...  \\\n",
       "0              7.0        7.0             6.0                  0.0  ...   \n",
       "1              6.0        6.0             4.0                  0.0  ...   \n",
       "2              7.0        7.0             6.0                  0.0  ...   \n",
       "3              7.0        7.0             5.0                  0.0  ...   \n",
       "4              9.0        9.0             1.0                  0.0  ...   \n",
       "\n",
       "   mixed_numerical_isoutlier  date_is_year_start_isoutlier  \\\n",
       "0                          0                             0   \n",
       "1                          0                             0   \n",
       "2                          0                             0   \n",
       "3                          0                             0   \n",
       "4                          0                             0   \n",
       "\n",
       "   date_is_quarter_start_isoutlier  date_is_month_end_isoutlier  \\\n",
       "0                                0                            0   \n",
       "1                                0                            0   \n",
       "2                                0                            0   \n",
       "3                                0                            0   \n",
       "4                                0                            0   \n",
       "\n",
       "   num_isoutlier  mixed_numerical_isnull  date_is_year_start_isnull  \\\n",
       "0              0                    True                      False   \n",
       "1              0                    True                      False   \n",
       "2              0                    True                      False   \n",
       "3              0                    True                      False   \n",
       "4              0                    True                      False   \n",
       "\n",
       "   date_is_quarter_start_isnull  date_is_month_end_isnull  num_isnull  \n",
       "0                         False                     False       False  \n",
       "1                         False                     False       False  \n",
       "2                         False                     False       False  \n",
       "3                         False                     False       False  \n",
       "4                         False                     False       False  \n",
       "\n",
       "[5 rows x 23 columns]"
      ]
     },
     "execution_count": 64,
     "metadata": {},
     "output_type": "execute_result"
    }
   ],
   "source": [
    "from preprocessor.imputer import fillnans\n",
    "\n",
    "# fillnans goes through all numerical columns and fills nans with either Mean, Median or any other provided value\n",
    "df8 = fillnans(df7,verbose =verbose, by = 'median')\n",
    "df8.head()"
   ]
  },
  {
   "cell_type": "markdown",
   "metadata": {},
   "source": [
    "#### We have come to far, now all that remains is our categorical column, we will simply on hot encode it, however, we will use a cutoff of 100 (an educated guess, which might differ for your data). The idea is to not create new columns for a value that only occured insignificant time in the data."
   ]
  },
  {
   "cell_type": "code",
   "execution_count": 66,
   "metadata": {},
   "outputs": [
    {
     "name": "stderr",
     "output_type": "stream",
     "text": [
      "Dropping cat: 100%|██████████████████████████████████████████████████████████████████████| 1/1 [00:00<00:00,  2.58it/s]\n"
     ]
    },
    {
     "name": "stdout",
     "output_type": "stream",
     "text": [
      "Cheking columns provided in Include 2\n",
      "Gathering useless columns, columns with just one unique value\n"
     ]
    },
    {
     "name": "stderr",
     "output_type": "stream",
     "text": [
      "Useless columns found 1: 100%|██████████████████████████████████████████████████████████| 2/2 [00:00<00:00, 333.41it/s]\n"
     ]
    },
    {
     "name": "stdout",
     "output_type": "stream",
     "text": [
      "Deleting..\n",
      "Deletion complete\n",
      "Dataframe shape after deleting  (86273, 208)\n"
     ]
    },
    {
     "data": {
      "text/html": [
       "<div>\n",
       "<style scoped>\n",
       "    .dataframe tbody tr th:only-of-type {\n",
       "        vertical-align: middle;\n",
       "    }\n",
       "\n",
       "    .dataframe tbody tr th {\n",
       "        vertical-align: top;\n",
       "    }\n",
       "\n",
       "    .dataframe thead th {\n",
       "        text-align: right;\n",
       "    }\n",
       "</style>\n",
       "<table border=\"1\" class=\"dataframe\">\n",
       "  <thead>\n",
       "    <tr style=\"text-align: right;\">\n",
       "      <th></th>\n",
       "      <th>num</th>\n",
       "      <th>mixed_numerical</th>\n",
       "      <th>date_month</th>\n",
       "      <th>date_day</th>\n",
       "      <th>date_dayofyear</th>\n",
       "      <th>date_weekofyear</th>\n",
       "      <th>date_week</th>\n",
       "      <th>date_dayofweek</th>\n",
       "      <th>date_is_month_start</th>\n",
       "      <th>date_is_month_end</th>\n",
       "      <th>...</th>\n",
       "      <th>cat_onehot__YC41</th>\n",
       "      <th>cat_onehot__YG41</th>\n",
       "      <th>cat_onehot__YG47</th>\n",
       "      <th>cat_onehot__YG63</th>\n",
       "      <th>cat_onehot__ZD31</th>\n",
       "      <th>cat_onehot__ZD71</th>\n",
       "      <th>cat_onehot__ZW41</th>\n",
       "      <th>cat_onehot__ZW42</th>\n",
       "      <th>cat_onehot__ZW61</th>\n",
       "      <th>cat_onehot__other</th>\n",
       "    </tr>\n",
       "  </thead>\n",
       "  <tbody>\n",
       "    <tr>\n",
       "      <td>0</td>\n",
       "      <td>10.172877</td>\n",
       "      <td>99.995805</td>\n",
       "      <td>2.0</td>\n",
       "      <td>17.0</td>\n",
       "      <td>48.0</td>\n",
       "      <td>7.0</td>\n",
       "      <td>7.0</td>\n",
       "      <td>6.0</td>\n",
       "      <td>0.0</td>\n",
       "      <td>0.0</td>\n",
       "      <td>...</td>\n",
       "      <td>0</td>\n",
       "      <td>0</td>\n",
       "      <td>0</td>\n",
       "      <td>0</td>\n",
       "      <td>0</td>\n",
       "      <td>0</td>\n",
       "      <td>0</td>\n",
       "      <td>0</td>\n",
       "      <td>0</td>\n",
       "      <td>0</td>\n",
       "    </tr>\n",
       "    <tr>\n",
       "      <td>1</td>\n",
       "      <td>10.172877</td>\n",
       "      <td>99.995805</td>\n",
       "      <td>2.0</td>\n",
       "      <td>8.0</td>\n",
       "      <td>39.0</td>\n",
       "      <td>6.0</td>\n",
       "      <td>6.0</td>\n",
       "      <td>4.0</td>\n",
       "      <td>0.0</td>\n",
       "      <td>0.0</td>\n",
       "      <td>...</td>\n",
       "      <td>0</td>\n",
       "      <td>0</td>\n",
       "      <td>0</td>\n",
       "      <td>0</td>\n",
       "      <td>0</td>\n",
       "      <td>0</td>\n",
       "      <td>0</td>\n",
       "      <td>0</td>\n",
       "      <td>0</td>\n",
       "      <td>0</td>\n",
       "    </tr>\n",
       "    <tr>\n",
       "      <td>2</td>\n",
       "      <td>10.191187</td>\n",
       "      <td>99.995805</td>\n",
       "      <td>2.0</td>\n",
       "      <td>17.0</td>\n",
       "      <td>48.0</td>\n",
       "      <td>7.0</td>\n",
       "      <td>7.0</td>\n",
       "      <td>6.0</td>\n",
       "      <td>0.0</td>\n",
       "      <td>0.0</td>\n",
       "      <td>...</td>\n",
       "      <td>0</td>\n",
       "      <td>0</td>\n",
       "      <td>0</td>\n",
       "      <td>0</td>\n",
       "      <td>0</td>\n",
       "      <td>0</td>\n",
       "      <td>0</td>\n",
       "      <td>0</td>\n",
       "      <td>0</td>\n",
       "      <td>0</td>\n",
       "    </tr>\n",
       "    <tr>\n",
       "      <td>3</td>\n",
       "      <td>10.188137</td>\n",
       "      <td>99.995805</td>\n",
       "      <td>2.0</td>\n",
       "      <td>16.0</td>\n",
       "      <td>47.0</td>\n",
       "      <td>7.0</td>\n",
       "      <td>7.0</td>\n",
       "      <td>5.0</td>\n",
       "      <td>0.0</td>\n",
       "      <td>0.0</td>\n",
       "      <td>...</td>\n",
       "      <td>0</td>\n",
       "      <td>0</td>\n",
       "      <td>0</td>\n",
       "      <td>0</td>\n",
       "      <td>0</td>\n",
       "      <td>0</td>\n",
       "      <td>0</td>\n",
       "      <td>0</td>\n",
       "      <td>0</td>\n",
       "      <td>0</td>\n",
       "    </tr>\n",
       "    <tr>\n",
       "      <td>4</td>\n",
       "      <td>0.000000</td>\n",
       "      <td>99.995805</td>\n",
       "      <td>2.0</td>\n",
       "      <td>26.0</td>\n",
       "      <td>57.0</td>\n",
       "      <td>9.0</td>\n",
       "      <td>9.0</td>\n",
       "      <td>1.0</td>\n",
       "      <td>0.0</td>\n",
       "      <td>0.0</td>\n",
       "      <td>...</td>\n",
       "      <td>0</td>\n",
       "      <td>0</td>\n",
       "      <td>0</td>\n",
       "      <td>0</td>\n",
       "      <td>0</td>\n",
       "      <td>0</td>\n",
       "      <td>0</td>\n",
       "      <td>0</td>\n",
       "      <td>0</td>\n",
       "      <td>1</td>\n",
       "    </tr>\n",
       "  </tbody>\n",
       "</table>\n",
       "<p>5 rows × 208 columns</p>\n",
       "</div>"
      ],
      "text/plain": [
       "         num  mixed_numerical  date_month  date_day  date_dayofyear  \\\n",
       "0  10.172877        99.995805         2.0      17.0            48.0   \n",
       "1  10.172877        99.995805         2.0       8.0            39.0   \n",
       "2  10.191187        99.995805         2.0      17.0            48.0   \n",
       "3  10.188137        99.995805         2.0      16.0            47.0   \n",
       "4   0.000000        99.995805         2.0      26.0            57.0   \n",
       "\n",
       "   date_weekofyear  date_week  date_dayofweek  date_is_month_start  \\\n",
       "0              7.0        7.0             6.0                  0.0   \n",
       "1              6.0        6.0             4.0                  0.0   \n",
       "2              7.0        7.0             6.0                  0.0   \n",
       "3              7.0        7.0             5.0                  0.0   \n",
       "4              9.0        9.0             1.0                  0.0   \n",
       "\n",
       "   date_is_month_end  ...  cat_onehot__YC41  cat_onehot__YG41  \\\n",
       "0                0.0  ...                 0                 0   \n",
       "1                0.0  ...                 0                 0   \n",
       "2                0.0  ...                 0                 0   \n",
       "3                0.0  ...                 0                 0   \n",
       "4                0.0  ...                 0                 0   \n",
       "\n",
       "   cat_onehot__YG47  cat_onehot__YG63  cat_onehot__ZD31  cat_onehot__ZD71  \\\n",
       "0                 0                 0                 0                 0   \n",
       "1                 0                 0                 0                 0   \n",
       "2                 0                 0                 0                 0   \n",
       "3                 0                 0                 0                 0   \n",
       "4                 0                 0                 0                 0   \n",
       "\n",
       "   cat_onehot__ZW41  cat_onehot__ZW42  cat_onehot__ZW61  cat_onehot__other  \n",
       "0                 0                 0                 0                  0  \n",
       "1                 0                 0                 0                  0  \n",
       "2                 0                 0                 0                  0  \n",
       "3                 0                 0                 0                  0  \n",
       "4                 0                 0                 0                  1  \n",
       "\n",
       "[5 rows x 208 columns]"
      ]
     },
     "execution_count": 66,
     "metadata": {},
     "output_type": "execute_result"
    }
   ],
   "source": [
    "from preprocessor.feature_extractor import onehot_encode_all\n",
    "\n",
    "# onehot_encode_all goes through all categorical columns and one hot encodes them\n",
    "# allow_na if True means treat None or Null as a class\n",
    "# onehot_encode_all drops the actual column after one hot encoding it\n",
    "df9 = onehot_encode_all(df8,verbose =verbose, cutoff = 100, cutoff_class = 'other', allow_na = True)\n",
    "df9.head()"
   ]
  },
  {
   "cell_type": "markdown",
   "metadata": {},
   "source": [
    "#### finally looks like our data is all numbers, with no nans, no nulls and almost ready for any algorthim that operates on numbers, but wait!"
   ]
  },
  {
   "cell_type": "markdown",
   "metadata": {},
   "source": [
    "#### Some algorthims are really sensitive if features are in a very different scale of magnitude, therefore we normalize"
   ]
  },
  {
   "cell_type": "code",
   "execution_count": 70,
   "metadata": {},
   "outputs": [
    {
     "name": "stdout",
     "output_type": "stream",
     "text": [
      "Normalizing numbers from all columns\n",
      "Normalizing numbers from all columns\n"
     ]
    }
   ],
   "source": [
    "from sklearn.preprocessing import RobustScaler, StandardScaler\n",
    "from preprocessor.imputer import normalize\n",
    "\n",
    "# normalize, normalizes each column of the dataframe using provided scaler\n",
    "df_scaled_standard = normalize(df9, verbose = verbose) #StandardScaler is dfault scaler\n",
    "# You can read benefits of robust scaler at \n",
    "# https://scikit-learn.org/stable/modules/generated/sklearn.preprocessing.RobustScaler.html\n",
    "df_scaled_robust = normalize(df9, verbose = verbose, scaler = RobustScaler())"
   ]
  },
  {
   "cell_type": "markdown",
   "metadata": {},
   "source": [
    "#### Lets visualize at the changes in the scales of a feature after scaling"
   ]
  },
  {
   "cell_type": "code",
   "execution_count": 74,
   "metadata": {},
   "outputs": [
    {
     "name": "stderr",
     "output_type": "stream",
     "text": [
      "C:\\Users\\Ahsan\\.conda\\envs\\preprocessor\\lib\\site-packages\\matplotlib\\figure.py:98: MatplotlibDeprecationWarning: \n",
      "Adding an axes using the same arguments as a previous axes currently reuses the earlier instance.  In a future version, a new instance will always be created and returned.  Meanwhile, this warning can be suppressed, and the future behavior ensured, by passing a unique label to each axes instance.\n",
      "  \"Adding an axes using the same arguments as a previous axes \"\n"
     ]
    },
    {
     "data": {
      "text/plain": [
       "(<Figure size 432x288 with 1 Axes>,\n",
       " <matplotlib.axes._subplots.AxesSubplot at 0x214144bc710>)"
      ]
     },
     "execution_count": 74,
     "metadata": {},
     "output_type": "execute_result"
    },
    {
     "data": {
      "image/png": "[encoded data removed]",
      "text/plain": [
       "<Figure size 432x288 with 1 Axes>"
      ]
     },
     "metadata": {
      "needs_background": "light"
     },
     "output_type": "display_data"
    },
    {
     "data": {
      "image/png": "[encoded data removed]",
      "text/plain": [
       "<Figure size 432x288 with 1 Axes>"
      ]
     },
     "metadata": {
      "needs_background": "light"
     },
     "output_type": "display_data"
    },
    {
     "data": {
      "image/png": "[encoded data removed]",
      "text/plain": [
       "<Figure size 432x288 with 1 Axes>"
      ]
     },
     "metadata": {
      "needs_background": "light"
     },
     "output_type": "display_data"
    },
    {
     "data": {
      "image/png": "[encoded data removed]",
      "text/plain": [
       "<Figure size 432x288 with 1 Axes>"
      ]
     },
     "metadata": {
      "needs_background": "light"
     },
     "output_type": "display_data"
    }
   ],
   "source": [
    "from preprocessor.plotter import plot_line\n",
    "%matplotlib inline\n",
    "\n",
    "col = 'num'\n",
    "plot_line(data,col,title = 'raw')\n",
    "plot_line(df9,col,title = 'unscaled_processed')\n",
    "plot_line(df_scaled_standard,col,title = 'standard scaled')\n",
    "plot_line(df_scaled_robust,col,title = 'robust scaled')"
   ]
  },
  {
   "cell_type": "markdown",
   "metadata": {},
   "source": [
    "#### Looking at the results we can choose which ever scale of features suits us and work with it."
   ]
  },
  {
   "cell_type": "markdown",
   "metadata": {},
   "source": [
    "### Final pipeline "
   ]
  },
  {
   "cell_type": "code",
   "execution_count": 78,
   "metadata": {},
   "outputs": [
    {
     "name": "stderr",
     "output_type": "stream",
     "text": [
      "Removing numericals from mixed: 100%|████████████████████████████████████████████████████| 1/1 [00:00<00:00, 15.15it/s]\n",
      "Replacing outliers in num with nan: 100%|████████████████████████████████████████████████| 2/2 [00:00<00:00, 18.69it/s]\n",
      "Useless columns found 0 : 100%|█████████████████████████████████████████████████████████| 2/2 [00:00<00:00, 333.34it/s]\n",
      "Extracting 15 datetime features from date: 100%|█████████████████████████████████████████| 1/1 [00:03<00:00,  3.50s/it]\n",
      "Useless columns found 5: 100%|████████████████████████████████████████████████████████| 15/15 [00:00<00:00, 555.53it/s]\n",
      "Adding num_isnull column: 100%|███████████████████████████████████████████████████████| 14/14 [00:00<00:00, 184.20it/s]\n",
      "Useless columns found 0 : 100%|█████████████████████████████████████████████████████████| 2/2 [00:00<00:00, 499.35it/s]\n",
      "Filling nans in date_is_month_end with 0.0: 100%|█████████████████████████████████████| 16/16 [00:00<00:00, 197.52it/s]\n",
      "Dropping cat: 100%|██████████████████████████████████████████████████████████████████████| 1/1 [00:00<00:00,  3.15it/s]\n",
      "Useless columns found 1: 100%|██████████████████████████████████████████████████████████| 2/2 [00:00<00:00, 333.23it/s]\n"
     ]
    },
    {
     "data": {
      "text/html": [
       "<div>\n",
       "<style scoped>\n",
       "    .dataframe tbody tr th:only-of-type {\n",
       "        vertical-align: middle;\n",
       "    }\n",
       "\n",
       "    .dataframe tbody tr th {\n",
       "        vertical-align: top;\n",
       "    }\n",
       "\n",
       "    .dataframe thead th {\n",
       "        text-align: right;\n",
       "    }\n",
       "</style>\n",
       "<table border=\"1\" class=\"dataframe\">\n",
       "  <thead>\n",
       "    <tr style=\"text-align: right;\">\n",
       "      <th></th>\n",
       "      <th>num</th>\n",
       "      <th>mixed_numerical</th>\n",
       "      <th>mixed_numerical_isoutlier</th>\n",
       "      <th>num_isoutlier</th>\n",
       "      <th>date_month</th>\n",
       "      <th>date_day</th>\n",
       "      <th>date_dayofyear</th>\n",
       "      <th>date_weekofyear</th>\n",
       "      <th>date_week</th>\n",
       "      <th>date_dayofweek</th>\n",
       "      <th>...</th>\n",
       "      <th>cat_onehot__YC41</th>\n",
       "      <th>cat_onehot__YG41</th>\n",
       "      <th>cat_onehot__YG47</th>\n",
       "      <th>cat_onehot__YG63</th>\n",
       "      <th>cat_onehot__ZD31</th>\n",
       "      <th>cat_onehot__ZD71</th>\n",
       "      <th>cat_onehot__ZW41</th>\n",
       "      <th>cat_onehot__ZW42</th>\n",
       "      <th>cat_onehot__ZW61</th>\n",
       "      <th>cat_onehot__other</th>\n",
       "    </tr>\n",
       "  </thead>\n",
       "  <tbody>\n",
       "    <tr>\n",
       "      <td>0</td>\n",
       "      <td>-1.734031</td>\n",
       "      <td>-0.051559</td>\n",
       "      <td>-0.025257</td>\n",
       "      <td>-0.110462</td>\n",
       "      <td>0.936943</td>\n",
       "      <td>0.222063</td>\n",
       "      <td>1.009583</td>\n",
       "      <td>0.828775</td>\n",
       "      <td>0.828775</td>\n",
       "      <td>1.550356</td>\n",
       "      <td>...</td>\n",
       "      <td>-0.046482</td>\n",
       "      <td>-0.054125</td>\n",
       "      <td>-0.036054</td>\n",
       "      <td>-0.045213</td>\n",
       "      <td>-0.034405</td>\n",
       "      <td>-0.057266</td>\n",
       "      <td>-0.053475</td>\n",
       "      <td>-0.05434</td>\n",
       "      <td>-0.050562</td>\n",
       "      <td>-0.475733</td>\n",
       "    </tr>\n",
       "    <tr>\n",
       "      <td>1</td>\n",
       "      <td>-1.734031</td>\n",
       "      <td>-0.051559</td>\n",
       "      <td>-0.025257</td>\n",
       "      <td>-0.110462</td>\n",
       "      <td>0.936943</td>\n",
       "      <td>-0.811541</td>\n",
       "      <td>0.489264</td>\n",
       "      <td>0.426666</td>\n",
       "      <td>0.426666</td>\n",
       "      <td>0.528812</td>\n",
       "      <td>...</td>\n",
       "      <td>-0.046482</td>\n",
       "      <td>-0.054125</td>\n",
       "      <td>-0.036054</td>\n",
       "      <td>-0.045213</td>\n",
       "      <td>-0.034405</td>\n",
       "      <td>-0.057266</td>\n",
       "      <td>-0.053475</td>\n",
       "      <td>-0.05434</td>\n",
       "      <td>-0.050562</td>\n",
       "      <td>-0.475733</td>\n",
       "    </tr>\n",
       "    <tr>\n",
       "      <td>2</td>\n",
       "      <td>-1.733251</td>\n",
       "      <td>-0.051559</td>\n",
       "      <td>-0.025257</td>\n",
       "      <td>-0.110462</td>\n",
       "      <td>0.936943</td>\n",
       "      <td>0.222063</td>\n",
       "      <td>1.009583</td>\n",
       "      <td>0.828775</td>\n",
       "      <td>0.828775</td>\n",
       "      <td>1.550356</td>\n",
       "      <td>...</td>\n",
       "      <td>-0.046482</td>\n",
       "      <td>-0.054125</td>\n",
       "      <td>-0.036054</td>\n",
       "      <td>-0.045213</td>\n",
       "      <td>-0.034405</td>\n",
       "      <td>-0.057266</td>\n",
       "      <td>-0.053475</td>\n",
       "      <td>-0.05434</td>\n",
       "      <td>-0.050562</td>\n",
       "      <td>-0.475733</td>\n",
       "    </tr>\n",
       "    <tr>\n",
       "      <td>3</td>\n",
       "      <td>-1.733381</td>\n",
       "      <td>-0.051559</td>\n",
       "      <td>-0.025257</td>\n",
       "      <td>-0.110462</td>\n",
       "      <td>0.936943</td>\n",
       "      <td>0.107219</td>\n",
       "      <td>0.951770</td>\n",
       "      <td>0.828775</td>\n",
       "      <td>0.828775</td>\n",
       "      <td>1.039584</td>\n",
       "      <td>...</td>\n",
       "      <td>-0.046482</td>\n",
       "      <td>-0.054125</td>\n",
       "      <td>-0.036054</td>\n",
       "      <td>-0.045213</td>\n",
       "      <td>-0.034405</td>\n",
       "      <td>-0.057266</td>\n",
       "      <td>-0.053475</td>\n",
       "      <td>-0.05434</td>\n",
       "      <td>-0.050562</td>\n",
       "      <td>-0.475733</td>\n",
       "    </tr>\n",
       "    <tr>\n",
       "      <td>4</td>\n",
       "      <td>-2.167578</td>\n",
       "      <td>-0.051559</td>\n",
       "      <td>-0.025257</td>\n",
       "      <td>-0.110462</td>\n",
       "      <td>0.936943</td>\n",
       "      <td>1.255668</td>\n",
       "      <td>1.529902</td>\n",
       "      <td>1.632991</td>\n",
       "      <td>1.632991</td>\n",
       "      <td>-1.003505</td>\n",
       "      <td>...</td>\n",
       "      <td>-0.046482</td>\n",
       "      <td>-0.054125</td>\n",
       "      <td>-0.036054</td>\n",
       "      <td>-0.045213</td>\n",
       "      <td>-0.034405</td>\n",
       "      <td>-0.057266</td>\n",
       "      <td>-0.053475</td>\n",
       "      <td>-0.05434</td>\n",
       "      <td>-0.050562</td>\n",
       "      <td>2.102018</td>\n",
       "    </tr>\n",
       "  </tbody>\n",
       "</table>\n",
       "<p>5 rows × 202 columns</p>\n",
       "</div>"
      ],
      "text/plain": [
       "        num  mixed_numerical  mixed_numerical_isoutlier  num_isoutlier  \\\n",
       "0 -1.734031        -0.051559                  -0.025257      -0.110462   \n",
       "1 -1.734031        -0.051559                  -0.025257      -0.110462   \n",
       "2 -1.733251        -0.051559                  -0.025257      -0.110462   \n",
       "3 -1.733381        -0.051559                  -0.025257      -0.110462   \n",
       "4 -2.167578        -0.051559                  -0.025257      -0.110462   \n",
       "\n",
       "   date_month  date_day  date_dayofyear  date_weekofyear  date_week  \\\n",
       "0    0.936943  0.222063        1.009583         0.828775   0.828775   \n",
       "1    0.936943 -0.811541        0.489264         0.426666   0.426666   \n",
       "2    0.936943  0.222063        1.009583         0.828775   0.828775   \n",
       "3    0.936943  0.107219        0.951770         0.828775   0.828775   \n",
       "4    0.936943  1.255668        1.529902         1.632991   1.632991   \n",
       "\n",
       "   date_dayofweek  ...  cat_onehot__YC41  cat_onehot__YG41  cat_onehot__YG47  \\\n",
       "0        1.550356  ...         -0.046482         -0.054125         -0.036054   \n",
       "1        0.528812  ...         -0.046482         -0.054125         -0.036054   \n",
       "2        1.550356  ...         -0.046482         -0.054125         -0.036054   \n",
       "3        1.039584  ...         -0.046482         -0.054125         -0.036054   \n",
       "4       -1.003505  ...         -0.046482         -0.054125         -0.036054   \n",
       "\n",
       "   cat_onehot__YG63  cat_onehot__ZD31  cat_onehot__ZD71  cat_onehot__ZW41  \\\n",
       "0         -0.045213         -0.034405         -0.057266         -0.053475   \n",
       "1         -0.045213         -0.034405         -0.057266         -0.053475   \n",
       "2         -0.045213         -0.034405         -0.057266         -0.053475   \n",
       "3         -0.045213         -0.034405         -0.057266         -0.053475   \n",
       "4         -0.045213         -0.034405         -0.057266         -0.053475   \n",
       "\n",
       "   cat_onehot__ZW42  cat_onehot__ZW61  cat_onehot__other  \n",
       "0          -0.05434         -0.050562          -0.475733  \n",
       "1          -0.05434         -0.050562          -0.475733  \n",
       "2          -0.05434         -0.050562          -0.475733  \n",
       "3          -0.05434         -0.050562          -0.475733  \n",
       "4          -0.05434         -0.050562           2.102018  \n",
       "\n",
       "[5 rows x 202 columns]"
      ]
     },
     "execution_count": 78,
     "metadata": {},
     "output_type": "execute_result"
    }
   ],
   "source": [
    "# imports \n",
    "\n",
    "from preprocessor.feature_extractor import extract_is_nan_forall, extract_is_outlier_forall,extract_datetime_features_forall,\\\n",
    "extract_is_inf_forall, onehot_encode_all, extract_numericals_forall, extract_numericals\n",
    "from preprocessor.imputer import fillnans, remove_datetimes, fillinfs, normalize, remove_numericals_from_categories,\\\n",
    "remove_single_value_features\n",
    "\n",
    "verbose = False\n",
    "df10 = data\n",
    "\n",
    "\n",
    "df10 = extract_numericals(df10,col = 'mixed',verbose =verbose)\n",
    "df10 = remove_numericals_from_categories(df10,include=['mixed'],verbose =verbose)\n",
    "df10 = df10.drop(['mixed'], axis=1)\n",
    "df10 = extract_is_outlier_forall(df10,verbose =verbose, replace_with = np.nan)\n",
    "df10 = extract_datetime_features_forall(df10,verbose =verbose)\n",
    "df10 = remove_datetimes(df10, verbose = verbose) \n",
    "df10 = extract_is_nan_forall(df10,verbose =verbose)\n",
    "df10 = fillnans(df10,verbose =verbose, by = 'median')\n",
    "df10 = onehot_encode_all(df10,verbose =verbose, cutoff = 100, cutoff_class = 'other', allow_na = True)\n",
    "df10 = normalize(df10, verbose = verbose)\n",
    "df10.head()\n"
   ]
  },
  {
   "cell_type": "markdown",
   "metadata": {},
   "source": [
    "#### Final Comments: We were able to make a pipeline which is able to make our 4 raw columns into 202 columns what any data analysis algorthim can use"
   ]
  },
  {
   "cell_type": "code",
   "execution_count": null,
   "metadata": {},
   "outputs": [],
   "source": []
  }
 ],
 "metadata": {
  "kernelspec": {
   "display_name": "Python 3",
   "language": "python",
   "name": "python3"
  },
  "language_info": {
   "codemirror_mode": {
    "name": "ipython",
    "version": 3
   },
   "file_extension": ".py",
   "mimetype": "text/x-python",
   "name": "python",
   "nbconvert_exporter": "python",
   "pygments_lexer": "ipython3",
   "version": "3.5.6"
  }
 },
 "nbformat": 4,
 "nbformat_minor": 2
}
